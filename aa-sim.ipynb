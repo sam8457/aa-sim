{
 "cells": [
  {
   "cell_type": "code",
   "execution_count": 1,
   "id": "d557c7d7-4a86-43ad-92d2-31e22e25ece2",
   "metadata": {},
   "outputs": [],
   "source": [
    "# AA-Sim: Affirmative Action Simulation"
   ]
  },
  {
   "cell_type": "code",
   "execution_count": 2,
   "id": "e72211b9-6163-4a60-a89b-4d35022f644c",
   "metadata": {},
   "outputs": [],
   "source": [
    "import numpy as np\n",
    "import matplotlib.pyplot as plt\n",
    "\n",
    "#from matplotlib import colors\n",
    "#from matplotlib.ticker import PercentFormatter"
   ]
  },
  {
   "cell_type": "code",
   "execution_count": 3,
   "id": "d0bddab8-afad-4d03-87ec-c792df4f40d4",
   "metadata": {},
   "outputs": [
    {
     "name": "stdout",
     "output_type": "stream",
     "text": [
      "Equal Distribution of Applicants\n",
      "\n",
      "Black Applicant Average: 99.98214610977116\n",
      "Black Applicant Std Dev: 14.993450106893043\n",
      "White Applicant Average: 99.92380981671447\n",
      "White Applicant Std Dev: 14.971078742004442\n"
     ]
    }
   ],
   "source": [
    "print(\"Equal Distribution of Applicants\\n\")\n",
    "\n",
    "rng = np.random.default_rng(8222024112) # Standard seed for repeatability\n",
    "#rng = np.random.default_rng(5) # test seed for resilliance\n",
    "\n",
    "num_applicants = 100_000 # total number of applicants for each race\n",
    "\n",
    "# Convert to IQ scores\n",
    "w_dist = 15 * rng.standard_normal(num_applicants) + 100 # White applicants\n",
    "b_dist = 15 * rng.standard_normal(num_applicants) + 100 # Black applicants\n",
    "\n",
    "# Using this seed the distributions turn out the same, with the w_dist being (very) slightly lower\n",
    "print(f\"Black Applicant Average: {np.average(b_dist)}\")\n",
    "print(f\"Black Applicant Std Dev: {np.std(b_dist)}\")\n",
    "print(f\"White Applicant Average: {np.average(w_dist)}\")\n",
    "print(f\"White Applicant Std Dev: {np.std(w_dist)}\")"
   ]
  },
  {
   "cell_type": "code",
   "execution_count": 4,
   "id": "d60ca4b8-dee1-4e1e-ab65-6eb9c3c154c0",
   "metadata": {},
   "outputs": [
    {
     "name": "stdout",
     "output_type": "stream",
     "text": [
      "Simulation 1.1: Equal Thresholds\n",
      "\n",
      "# Black Students: 5061\n",
      "# White Students: 4939\n",
      "# All Students  : 10000\n",
      "B-W Ratio       : 1.0247013565499088\n",
      "\n",
      "Black Student Avg: 130.882023235439\n",
      "White Student Avg: 130.94062265009305\n",
      "All Student Avg  : 130.9109654863366\n"
     ]
    }
   ],
   "source": [
    "print(\"Simulation 1.1: Equal Thresholds\\n\")\n",
    "\n",
    "equal_threshold = 124.635 # value chosen through experimentation to ensure exactly 10,000 students\n",
    "\n",
    "# Compare applicant to threshold, if over accept\n",
    "b_accepted = b_dist[(b_dist > equal_threshold)]\n",
    "w_accepted = w_dist[(w_dist > equal_threshold)]\n",
    "\n",
    "bw_ratio = b_accepted.size / w_accepted.size\n",
    "bw_ratio, b_accepted.size, w_accepted.size, b_accepted.size + w_accepted.size\n",
    "\n",
    "print(f\"# Black Students: {b_accepted.size}\")\n",
    "print(f\"# White Students: {w_accepted.size}\")\n",
    "print(f\"# All Students  : {b_accepted.size + w_accepted.size}\")\n",
    "print(f\"B-W Ratio       : {bw_ratio}\")\n",
    "print(\"\")\n",
    "\n",
    "equal_threshold_avg = np.average(np.concatenate([b_accepted, w_accepted]))\n",
    "w_avg = np.average(w_accepted)\n",
    "b_avg = np.average(b_accepted)\n",
    "\n",
    "print(f\"Black Student Avg: {b_avg}\")\n",
    "print(f\"White Student Avg: {w_avg}\")\n",
    "print(f\"All Student Avg  : {equal_threshold_avg}\")"
   ]
  },
  {
   "cell_type": "code",
   "execution_count": 5,
   "id": "32c906fa-7b7a-4a8d-99ed-911961e70e35",
   "metadata": {},
   "outputs": [
    {
     "name": "stdout",
     "output_type": "stream",
     "text": [
      "Simulation 1.2: Unequal Thresholds\n",
      "\n",
      "# Black Students: 8537\n",
      "# White Students: 1463\n",
      "# All Students  : 10000\n",
      "B-W Ratio       : 5.83526999316473\n",
      "\n",
      "Black Student Avg: 127.45002523652856\n",
      "White Student Avg: 138.00159439320439\n",
      "All Student Avg  : 128.99371980415023\n",
      "\n",
      "Total IQ Loss: 19172.45682186376\n"
     ]
    }
   ],
   "source": [
    "print(\"Simulation 1.2: Unequal Thresholds\\n\")\n",
    "\n",
    "b_unequal_threshold = 120.558 # value chosen through experimentation to ensure exactly 10,000 students\n",
    "w_unequal_threshold = b_unequal_threshold + 12\n",
    "\n",
    "b_accepted = b_dist[(b_dist > b_unequal_threshold)]\n",
    "w_accepted = w_dist[(w_dist > w_unequal_threshold)]\n",
    "\n",
    "bw_ratio = b_accepted.size / w_accepted.size\n",
    "bw_ratio, b_accepted.size, w_accepted.size, b_accepted.size + w_accepted.size\n",
    "\n",
    "print(f\"# Black Students: {b_accepted.size}\")\n",
    "print(f\"# White Students: {w_accepted.size}\")\n",
    "print(f\"# All Students  : {b_accepted.size + w_accepted.size}\")\n",
    "print(f\"B-W Ratio       : {bw_ratio}\")\n",
    "print(\"\")\n",
    "\n",
    "unequal_threshold_avg = np.average(np.concatenate([b_accepted, w_accepted]))\n",
    "w_avg = np.average(w_accepted)\n",
    "b_avg = np.average(b_accepted)\n",
    "\n",
    "print(f\"Black Student Avg: {b_avg}\")\n",
    "print(f\"White Student Avg: {w_avg}\")\n",
    "print(f\"All Student Avg  : {unequal_threshold_avg}\")\n",
    "print(\"\")\n",
    "\n",
    "total_iq_point_loss = (equal_threshold_avg - unequal_threshold_avg) * 10000 # =number of students\n",
    "\n",
    "print(f\"Total IQ Loss: {total_iq_point_loss}\")"
   ]
  },
  {
   "cell_type": "code",
   "execution_count": 6,
   "id": "5a3459af-76bd-458a-83d6-89a2521c6939",
   "metadata": {},
   "outputs": [
    {
     "name": "stdout",
     "output_type": "stream",
     "text": [
      "Simulation 2: Scores With Bonus Points\n",
      "\n",
      "# Black Students: 8537\n",
      "# White Students: 1463\n",
      "# All Students  : 10000\n",
      "B-W Ratio       : 5.83526999316473\n",
      "\n",
      "Black Student Avg: 127.45002523652856\n",
      "White Student Avg: 138.00159439320439\n",
      "All Student Avg  : 128.99371980415023\n",
      "\n",
      "Total IQ Loss: 19172.45682186376\n"
     ]
    }
   ],
   "source": [
    "print(\"Simulation 2: Scores With Bonus Points\\n\")\n",
    "\n",
    "min_score = 132.558 # value chosen through experimentation to ensure exactly 10,000 students\n",
    "b_bonus_points = 12\n",
    "\n",
    "# Compare applicant to needed score, add bonus points to favored group, if over accept\n",
    "b_accepted = b_dist[(b_dist + b_bonus_points > min_score)]\n",
    "w_accepted = w_dist[(w_dist > min_score)]\n",
    "bw_ratio = b_accepted.size / w_accepted.size\n",
    "\n",
    "print(f\"# Black Students: {b_accepted.size}\")\n",
    "print(f\"# White Students: {w_accepted.size}\")\n",
    "print(f\"# All Students  : {b_accepted.size + w_accepted.size}\")\n",
    "print(f\"B-W Ratio       : {bw_ratio}\")\n",
    "print(\"\")\n",
    "\n",
    "score_avg = np.average(np.concatenate([b_accepted, w_accepted]))\n",
    "w_avg = np.average(w_accepted)\n",
    "b_avg = np.average(b_accepted)\n",
    "\n",
    "print(f\"Black Student Avg: {b_avg}\")\n",
    "print(f\"White Student Avg: {w_avg}\")\n",
    "print(f\"All Student Avg  : {score_avg}\")\n",
    "print(\"\")\n",
    "\n",
    "total_iq_point_loss = (equal_threshold_avg - score_avg) * 10000\n",
    "\n",
    "print(f\"Total IQ Loss: {total_iq_point_loss}\")"
   ]
  },
  {
   "cell_type": "code",
   "execution_count": 7,
   "id": "bfb1c5df-a45c-482f-8599-f869a3584e20",
   "metadata": {},
   "outputs": [
    {
     "name": "stdout",
     "output_type": "stream",
     "text": [
      "Simulation 3.1: Race-Blind Quotas\n",
      "\n",
      "All Student Avg  : 130.91096548633664\n"
     ]
    }
   ],
   "source": [
    "print(\"Simulation 3.1: Race-Blind Quotas\\n\")\n",
    "\n",
    "total_quota = 10000 # Size of quota chosen to match number of accepted applicants in earlier simulations\n",
    "\n",
    "# Sort students from low to high, accept only the highest\n",
    "bw_dist_sorted = np.concatenate([b_dist.copy(), w_dist.copy()])\n",
    "bw_dist_sorted.sort()\n",
    "bw_accepted = bw_dist_sorted[-total_quota:]\n",
    "\n",
    "equal_quota_avg = np.average(bw_accepted)\n",
    "\n",
    "print(f\"All Student Avg  : {equal_quota_avg}\")"
   ]
  },
  {
   "cell_type": "code",
   "execution_count": 8,
   "id": "1bdbaa92-12c9-4e93-a6b0-21a6c3ed0d00",
   "metadata": {},
   "outputs": [
    {
     "name": "stdout",
     "output_type": "stream",
     "text": [
      "Simulation 3.2: Race-Aware Quotas\n",
      "\n",
      "# Black Students: 8537\n",
      "# White Students: 1463\n",
      "# All Students  : 10000\n",
      "B-W Ratio       : 5.83526999316473\n",
      "\n",
      "Black Student Avg: 127.45002523652856\n",
      "White Student Avg: 138.00159439320439\n",
      "All Student Avg  : 128.99371980415023\n",
      "\n",
      "Total IQ Loss: 19172.456821864045\n"
     ]
    }
   ],
   "source": [
    "print(\"Simulation 3.2: Race-Aware Quotas\\n\")\n",
    "\n",
    "b_unequal_quota = 8537 # Size of quota chosen to match number of accepted applicants in earlier simulations\n",
    "w_unequal_quota = 1463\n",
    "\n",
    "b_dist_sorted = b_dist.copy()\n",
    "b_dist_sorted.sort()\n",
    "w_dist_sorted = w_dist.copy()\n",
    "w_dist_sorted.sort()\n",
    "b_accepted = b_dist_sorted[-b_unequal_quota:]\n",
    "w_accepted = w_dist_sorted[-w_unequal_quota:]\n",
    "bw_ratio = b_accepted.size / w_accepted.size\n",
    "\n",
    "print(f\"# Black Students: {b_accepted.size}\")\n",
    "print(f\"# White Students: {w_accepted.size}\")\n",
    "print(f\"# All Students  : {b_accepted.size + w_accepted.size}\")\n",
    "print(f\"B-W Ratio       : {bw_ratio}\")\n",
    "print(\"\")\n",
    "\n",
    "unequal_quota_avg = np.average(np.concatenate([b_accepted, w_accepted]))\n",
    "w_avg = np.average(w_accepted)\n",
    "b_avg = np.average(b_accepted)\n",
    "\n",
    "print(f\"Black Student Avg: {b_avg}\")\n",
    "print(f\"White Student Avg: {w_avg}\")\n",
    "print(f\"All Student Avg  : {unequal_quota_avg}\")\n",
    "print(\"\")\n",
    "\n",
    "total_iq_point_loss = (equal_quota_avg - unequal_quota_avg) * 10000\n",
    "\n",
    "print(f\"Total IQ Loss: {total_iq_point_loss}\")"
   ]
  },
  {
   "cell_type": "code",
   "execution_count": 9,
   "id": "c9b4158e-5358-474f-bf33-007d99384a62",
   "metadata": {},
   "outputs": [
    {
     "name": "stdout",
     "output_type": "stream",
     "text": [
      "Uneqal Distribution of Applicants\n",
      "\n",
      "Black Applicant Average, Higher: 109.98214610977116\n",
      "Black Applicant Average, Lower : 89.98214610977116\n"
     ]
    }
   ],
   "source": [
    "print(\"Uneqal Distribution of Applicants\\n\")\n",
    "\n",
    "b_dist_higher = b_dist.copy() + 10\n",
    "b_dist_lower = b_dist.copy() - 10\n",
    "print(f\"Black Applicant Average, Higher: {np.average(b_dist_higher)}\")\n",
    "print(f\"Black Applicant Average, Lower : {np.average(b_dist_lower)}\")"
   ]
  },
  {
   "cell_type": "code",
   "execution_count": 10,
   "id": "c8d75af1-a22d-4809-8d17-aae24ab24291",
   "metadata": {},
   "outputs": [
    {
     "name": "stdout",
     "output_type": "stream",
     "text": [
      "Simulation 4.1: Race-Blind Quotas, Favored Group Higher\n",
      "\n",
      "All Student Avg  : 137.5735177408976\n"
     ]
    }
   ],
   "source": [
    "print(\"Simulation 4.1: Race-Blind Quotas, Favored Group Higher\\n\")\n",
    "\n",
    "total_quota = 10000\n",
    "\n",
    "bw_dist_sorted = np.concatenate([b_dist_higher.copy(), w_dist.copy()])\n",
    "bw_dist_sorted.sort()\n",
    "bw_accepted = bw_dist_sorted[-total_quota:]\n",
    "\n",
    "bh_equal_quota_avg = np.average(bw_accepted)\n",
    "\n",
    "print(f\"All Student Avg  : {bh_equal_quota_avg}\")"
   ]
  },
  {
   "cell_type": "code",
   "execution_count": 11,
   "id": "076e91d9-1b1f-4da7-9da2-0e76da785e5d",
   "metadata": {},
   "outputs": [
    {
     "name": "stdout",
     "output_type": "stream",
     "text": [
      "Simulation 4.2: Race-Aware Quotas, Favored Group Higher\n",
      "\n",
      "# Black Students: 8537\n",
      "# White Students: 1463\n",
      "# All Students  : 10000\n",
      "B-W Ratio       : 5.83526999316473\n",
      "\n",
      "Black Student Avg: 137.45002523652857\n",
      "White Student Avg: 138.00159439320439\n",
      "All Student Avg  : 137.53071980415024\n",
      "\n",
      "Total IQ Loss: 427.9793674737675\n"
     ]
    }
   ],
   "source": [
    "print(\"Simulation 4.2: Race-Aware Quotas, Favored Group Higher\\n\")\n",
    "\n",
    "w_unequal_quota = 1463\n",
    "b_unequal_quota = 8537\n",
    "\n",
    "b_dist_sorted = b_dist_higher.copy()\n",
    "b_dist_sorted.sort()\n",
    "w_dist_sorted = w_dist.copy()\n",
    "w_dist_sorted.sort()\n",
    "\n",
    "b_accepted = b_dist_sorted[-b_unequal_quota:]\n",
    "w_accepted = w_dist_sorted[-w_unequal_quota:]\n",
    "bw_ratio = b_accepted.size / w_accepted.size\n",
    "\n",
    "print(f\"# Black Students: {b_accepted.size}\")\n",
    "print(f\"# White Students: {w_accepted.size}\")\n",
    "print(f\"# All Students  : {b_accepted.size + w_accepted.size}\")\n",
    "print(f\"B-W Ratio       : {bw_ratio}\")\n",
    "print(\"\")\n",
    "\n",
    "bh_unequal_quota_avg = np.average(np.concatenate([b_accepted, w_accepted]))\n",
    "w_avg = np.average(w_accepted)\n",
    "b_avg = np.average(b_accepted)\n",
    "\n",
    "print(f\"Black Student Avg: {b_avg}\")\n",
    "print(f\"White Student Avg: {w_avg}\")\n",
    "print(f\"All Student Avg  : {bh_unequal_quota_avg}\")\n",
    "print(\"\")\n",
    "\n",
    "total_iq_point_loss = (bh_equal_quota_avg - bh_unequal_quota_avg) * 10000\n",
    "\n",
    "print(f\"Total IQ Loss: {total_iq_point_loss}\")"
   ]
  },
  {
   "cell_type": "code",
   "execution_count": 12,
   "id": "938d2609-bc46-49ed-a6a4-aa2221a51cb2",
   "metadata": {},
   "outputs": [
    {
     "name": "stdout",
     "output_type": "stream",
     "text": [
      "Simulation 4.3: Race-Blind Quotas, Favored Group Lower\n",
      "\n",
      "All Student Avg  : 127.48031629621741\n"
     ]
    }
   ],
   "source": [
    "print(\"Simulation 4.3: Race-Blind Quotas, Favored Group Lower\\n\")\n",
    "\n",
    "total_quota = 10000\n",
    "\n",
    "bw_dist_sorted = np.concatenate([b_dist_lower.copy(), w_dist.copy()])\n",
    "bw_dist_sorted.sort()\n",
    "bw_accepted = bw_dist_sorted[-total_quota:]\n",
    "\n",
    "bl_equal_quota_avg = np.average(bw_accepted)\n",
    "\n",
    "print(f\"All Student Avg  : {bl_equal_quota_avg}\")"
   ]
  },
  {
   "cell_type": "code",
   "execution_count": 13,
   "id": "bdaa00f1-451e-44cf-8932-cd7b7b619461",
   "metadata": {},
   "outputs": [
    {
     "name": "stdout",
     "output_type": "stream",
     "text": [
      "Simulation 4.4: Race-Aware Quotas, Favored Group Lower\n",
      "\n",
      "# Black Students: 8537\n",
      "# White Students: 1463\n",
      "# All Students  : 10000\n",
      "B-W Ratio       : 5.83526999316473\n",
      "\n",
      "Black Student Avg: 117.45002523652856\n",
      "White Student Avg: 138.00159439320439\n",
      "All Student Avg  : 120.45671980415024\n",
      "\n",
      "Total IQ Loss: 70235.9649206717\n"
     ]
    }
   ],
   "source": [
    "print(\"Simulation 4.4: Race-Aware Quotas, Favored Group Lower\\n\")\n",
    "\n",
    "w_unequal_quota = 1463\n",
    "b_unequal_quota = 8537\n",
    "\n",
    "b_dist_sorted = b_dist_lower.copy()\n",
    "b_dist_sorted.sort()\n",
    "w_dist_sorted = w_dist.copy()\n",
    "w_dist_sorted.sort()\n",
    "\n",
    "b_accepted = b_dist_sorted[-b_unequal_quota:]\n",
    "w_accepted = w_dist_sorted[-w_unequal_quota:]\n",
    "bw_ratio = b_accepted.size / w_accepted.size\n",
    "\n",
    "print(f\"# Black Students: {b_accepted.size}\")\n",
    "print(f\"# White Students: {w_accepted.size}\")\n",
    "print(f\"# All Students  : {b_accepted.size + w_accepted.size}\")\n",
    "print(f\"B-W Ratio       : {bw_ratio}\")\n",
    "print(\"\")\n",
    "\n",
    "bl_unequal_quota_avg = np.average(np.concatenate([b_accepted, w_accepted]))\n",
    "w_avg = np.average(w_accepted)\n",
    "b_avg = np.average(b_accepted)\n",
    "\n",
    "print(f\"Black Student Avg: {b_avg}\")\n",
    "print(f\"White Student Avg: {w_avg}\")\n",
    "print(f\"All Student Avg  : {bl_unequal_quota_avg}\")\n",
    "print(\"\")\n",
    "\n",
    "total_iq_point_loss = (bl_equal_quota_avg - bl_unequal_quota_avg) * 10000\n",
    "\n",
    "print(f\"Total IQ Loss: {total_iq_point_loss}\")"
   ]
  },
  {
   "cell_type": "code",
   "execution_count": 14,
   "id": "9e7bf76a-c785-4559-8ef6-1dee23530424",
   "metadata": {},
   "outputs": [
    {
     "name": "stdout",
     "output_type": "stream",
     "text": [
      "Simulation 5.1: Scores Without Bonus Points, Equal Discrimination\n",
      "\n",
      "# Black Students: 1504\n",
      "# White Students: 8496\n",
      "# All Students  : 10000\n",
      "B-W Ratio       : 0.17702448210922786\n",
      "\n",
      "Black Student Avg: 137.86895977448287\n",
      "White Student Avg: 127.35978532646854\n",
      "All Student Avg  : 128.94036516344988\n",
      "\n",
      "Total IQ Loss: 19706.003228867245\n"
     ]
    }
   ],
   "source": [
    "print(\"Simulation 5.1: Scores Without Bonus Points, Equal Discrimination\\n\")\n",
    "\n",
    "min_score = 120.4004 # value chosen through experimentation to ensure exactly 10,000 students\n",
    "b_discrimination = 12\n",
    "\n",
    "b_accepted = b_dist[(b_dist - b_discrimination > min_score)]\n",
    "w_accepted = w_dist[(w_dist > min_score)]\n",
    "bw_ratio = b_accepted.size / w_accepted.size\n",
    "\n",
    "print(f\"# Black Students: {b_accepted.size}\")\n",
    "print(f\"# White Students: {w_accepted.size}\")\n",
    "print(f\"# All Students  : {b_accepted.size + w_accepted.size}\")\n",
    "print(f\"B-W Ratio       : {bw_ratio}\")\n",
    "print(\"\")\n",
    "\n",
    "eq_d_score_avg = np.average(np.concatenate([b_accepted, w_accepted]))\n",
    "w_avg = np.average(w_accepted)\n",
    "b_avg = np.average(b_accepted)\n",
    "\n",
    "print(f\"Black Student Avg: {b_avg}\")\n",
    "print(f\"White Student Avg: {w_avg}\")\n",
    "print(f\"All Student Avg  : {eq_d_score_avg}\")\n",
    "print(\"\")\n",
    "\n",
    "total_iq_point_loss = (equal_threshold_avg - eq_d_score_avg) * 10000\n",
    "\n",
    "print(f\"Total IQ Loss: {total_iq_point_loss}\")"
   ]
  },
  {
   "cell_type": "code",
   "execution_count": 15,
   "id": "8a7d5b51-b4d2-4fd7-9859-3955bf7c30ca",
   "metadata": {},
   "outputs": [
    {
     "name": "stdout",
     "output_type": "stream",
     "text": [
      "Simulation 5.2: Scores With Bonus Points, Equal Discrimination\n",
      "\n",
      "# Black Students: 5061\n",
      "# White Students: 4939\n",
      "# All Students  : 10000\n",
      "B-W Ratio       : 1.0247013565499088\n",
      "\n",
      "Black Student Avg: 130.882023235439\n",
      "White Student Avg: 130.94062265009305\n",
      "All Student Avg  : 130.9109654863366\n",
      "\n",
      "Total IQ Loss: 0.0\n"
     ]
    }
   ],
   "source": [
    "print(\"Simulation 5.2: Scores With Bonus Points, Equal Discrimination\\n\")\n",
    "\n",
    "min_score = 124.635 # value chosen through experimentation to ensure exactly 10,000 students\n",
    "b_discrimination = 12\n",
    "b_bonus_points = 12\n",
    "\n",
    "b_accepted = b_dist[(b_dist - b_discrimination + b_bonus_points > min_score)]\n",
    "w_accepted = w_dist[(w_dist > min_score)]\n",
    "bw_ratio = b_accepted.size / w_accepted.size\n",
    "\n",
    "print(f\"# Black Students: {b_accepted.size}\")\n",
    "print(f\"# White Students: {w_accepted.size}\")\n",
    "print(f\"# All Students  : {b_accepted.size + w_accepted.size}\")\n",
    "print(f\"B-W Ratio       : {bw_ratio}\")\n",
    "print(\"\")\n",
    "\n",
    "bp_eq_d_score_avg = np.average(np.concatenate([b_accepted, w_accepted]))\n",
    "w_avg = np.average(w_accepted)\n",
    "b_avg = np.average(b_accepted)\n",
    "\n",
    "print(f\"Black Student Avg: {b_avg}\")\n",
    "print(f\"White Student Avg: {w_avg}\")\n",
    "print(f\"All Student Avg  : {bp_eq_d_score_avg}\")\n",
    "print(\"\")\n",
    "\n",
    "total_iq_point_loss = (equal_threshold_avg - bp_eq_d_score_avg) * 10000\n",
    "\n",
    "print(f\"Total IQ Loss: {total_iq_point_loss}\")"
   ]
  },
  {
   "cell_type": "code",
   "execution_count": 16,
   "id": "71dce424-668d-47d9-a61f-5d65820b2a82",
   "metadata": {},
   "outputs": [
    {
     "name": "stdout",
     "output_type": "stream",
     "text": [
      "Variable Discrimination Distribution\n",
      "\n",
      "\n",
      "Discrimination Average: 11.985067058424853\n",
      "Discrimination Std Dev: 5.978718709064072\n"
     ]
    }
   ],
   "source": [
    "print(\"Variable Discrimination Distribution\\n\")\n",
    "print(\"\")\n",
    "\n",
    "# Average discrimination equal to 12 IQ points with SD of 6\n",
    "variable_discrimination = 6 * rng.standard_normal(num_applicants) + 12\n",
    "\n",
    "print(f\"Discrimination Average: {np.average(variable_discrimination)}\")\n",
    "print(f\"Discrimination Std Dev: {np.std(variable_discrimination)}\")"
   ]
  },
  {
   "cell_type": "code",
   "execution_count": 17,
   "id": "63e8e9b0-c460-475d-be0b-e540e4922b3b",
   "metadata": {},
   "outputs": [
    {
     "name": "stdout",
     "output_type": "stream",
     "text": [
      "Simulation 6.1: Scores Without Bonus Points, Variable Discrimination\n",
      "\n",
      "# Black Students: 2041\n",
      "# White Students: 7959\n",
      "# All Students  : 10000\n",
      "B-W Ratio       : 0.2564392511622063\n",
      "\n",
      "Black Student Avg: 133.57169686302123\n",
      "White Student Avg: 127.81217936296865\n",
      "All Student Avg  : 128.98769688472936\n",
      "\n",
      "Total IQ Loss: 19232.68601607248\n"
     ]
    }
   ],
   "source": [
    "print(\"Simulation 6.1: Scores Without Bonus Points, Variable Discrimination\\n\")\n",
    "\n",
    "min_score = 120.931 # value chosen through experimentation to ensure exactly 10,000 students\n",
    "\n",
    "b_accepted = b_dist[(b_dist - variable_discrimination > min_score)]\n",
    "w_accepted = w_dist[(w_dist > min_score)]\n",
    "bw_ratio = b_accepted.size / w_accepted.size\n",
    "\n",
    "print(f\"# Black Students: {b_accepted.size}\")\n",
    "print(f\"# White Students: {w_accepted.size}\")\n",
    "print(f\"# All Students  : {b_accepted.size + w_accepted.size}\")\n",
    "print(f\"B-W Ratio       : {bw_ratio}\")\n",
    "print(\"\")\n",
    "\n",
    "vd_eq_d_score_avg = np.average(np.concatenate([b_accepted, w_accepted]))\n",
    "w_avg = np.average(w_accepted)\n",
    "b_avg = np.average(b_accepted)\n",
    "\n",
    "print(f\"Black Student Avg: {b_avg}\")\n",
    "print(f\"White Student Avg: {w_avg}\")\n",
    "print(f\"All Student Avg  : {vd_eq_d_score_avg}\")\n",
    "print(\"\")\n",
    "\n",
    "total_iq_point_loss = (equal_threshold_avg - vd_eq_d_score_avg) * 10000\n",
    "\n",
    "print(f\"Total IQ Loss: {total_iq_point_loss}\")"
   ]
  },
  {
   "cell_type": "code",
   "execution_count": 18,
   "id": "fd5f0153-2737-4a1f-a2b5-73b7f6ad80a8",
   "metadata": {},
   "outputs": [
    {
     "name": "stdout",
     "output_type": "stream",
     "text": [
      "Simulation 6.2: Scores With Bonus Points, Variable Discrimination, Points Equal Average Discrimination\n",
      "\n",
      "# Black Students: 5627\n",
      "# White Students: 4373\n",
      "# All Students  : 10000\n",
      "B-W Ratio       : 1.28675966155957\n",
      "\n",
      "Black Student Avg: 127.96226148433269\n",
      "White Student Avg: 131.7008719475975\n",
      "All Student Avg  : 129.5971558399184\n",
      "\n",
      "Total IQ Loss: 13138.09646418207\n"
     ]
    }
   ],
   "source": [
    "print(\"Simulation 6.2: Scores With Bonus Points, Variable Discrimination, Points Equal Average Discrimination\\n\")\n",
    "\n",
    "min_score = 125.50965 # value chosen through experimentation to ensure exactly 10,000 students\n",
    "b_bonus_points = 12\n",
    "\n",
    "b_accepted = b_dist[(b_dist - variable_discrimination + b_bonus_points > min_score)]\n",
    "w_accepted = w_dist[(w_dist > min_score)]\n",
    "bw_ratio = b_accepted.size / w_accepted.size\n",
    "\n",
    "print(f\"# Black Students: {b_accepted.size}\")\n",
    "print(f\"# White Students: {w_accepted.size}\")\n",
    "print(f\"# All Students  : {b_accepted.size + w_accepted.size}\")\n",
    "print(f\"B-W Ratio       : {bw_ratio}\")\n",
    "print(\"\")\n",
    "\n",
    "bp_vd_score_avg = np.average(np.concatenate([b_accepted, w_accepted]))\n",
    "w_avg = np.average(w_accepted)\n",
    "b_avg = np.average(b_accepted)\n",
    "\n",
    "print(f\"Black Student Avg: {b_avg}\")\n",
    "print(f\"White Student Avg: {w_avg}\")\n",
    "print(f\"All Student Avg  : {bp_vd_score_avg}\")\n",
    "print(\"\")\n",
    "\n",
    "total_iq_point_loss = (equal_threshold_avg - bp_vd_score_avg) * 10000\n",
    "\n",
    "print(f\"Total IQ Loss: {total_iq_point_loss}\")"
   ]
  },
  {
   "cell_type": "code",
   "execution_count": 19,
   "id": "a5c5378d-4c1a-4f05-ba18-11e4ff730dff",
   "metadata": {},
   "outputs": [
    {
     "name": "stdout",
     "output_type": "stream",
     "text": [
      "Simulation 6.2: Scores With Bonus Points, Variable Discrimination, Points Below Average Discrimination\n",
      "\n",
      "# Black Students: 3669\n",
      "# White Students: 6331\n",
      "# All Students  : 10000\n",
      "B-W Ratio       : 0.57952930026852\n",
      "\n",
      "Black Student Avg: 130.38666703699894\n",
      "White Student Avg: 129.34743666565265\n",
      "All Student Avg  : 129.72873028889958\n",
      "\n",
      "Total IQ Loss: 11822.351974370235\n"
     ]
    }
   ],
   "source": [
    "print(\"Simulation 6.2: Scores With Bonus Points, Variable Discrimination, Points Below Average Discrimination\\n\")\n",
    "\n",
    "min_score = 122.835 # value chosen through experimentation to ensure exactly 10,000 students\n",
    "b_bonus_points = 6\n",
    "\n",
    "b_accepted = b_dist[(b_dist - variable_discrimination + b_bonus_points > min_score)]\n",
    "w_accepted = w_dist[(w_dist > min_score)]\n",
    "bw_ratio = b_accepted.size / w_accepted.size\n",
    "\n",
    "print(f\"# Black Students: {b_accepted.size}\")\n",
    "print(f\"# White Students: {w_accepted.size}\")\n",
    "print(f\"# All Students  : {b_accepted.size + w_accepted.size}\")\n",
    "print(f\"B-W Ratio       : {bw_ratio}\")\n",
    "print(\"\")\n",
    "\n",
    "lbp_vd_eq_d_score_avg = np.average(np.concatenate([b_accepted, w_accepted]))\n",
    "w_avg = np.average(w_accepted)\n",
    "b_avg = np.average(b_accepted)\n",
    "\n",
    "print(f\"Black Student Avg: {b_avg}\")\n",
    "print(f\"White Student Avg: {w_avg}\")\n",
    "print(f\"All Student Avg  : {lbp_vd_eq_d_score_avg}\")\n",
    "print(\"\")\n",
    "\n",
    "total_iq_point_loss = (equal_threshold_avg - lbp_vd_eq_d_score_avg) * 10000\n",
    "\n",
    "print(f\"Total IQ Loss: {total_iq_point_loss}\")"
   ]
  },
  {
   "cell_type": "code",
   "execution_count": 20,
   "id": "c59c8b19-52a0-476f-88fb-62669443b442",
   "metadata": {},
   "outputs": [
    {
     "name": "stdout",
     "output_type": "stream",
     "text": [
      "Simulation 6.3: Scores With Bonus Points, Variable Discrimination, Points Above Average Discrimination\n",
      "\n",
      "# Black Students: 7467\n",
      "# White Students: 2533\n",
      "# All Students  : 10000\n",
      "B-W Ratio       : 2.9478878799842083\n",
      "\n",
      "Black Student Avg: 126.27417718125508\n",
      "White Student Avg: 134.9378337703748\n",
      "All Student Avg  : 128.4686813952791\n",
      "\n",
      "Total IQ Loss: 24422.840910575018\n"
     ]
    }
   ],
   "source": [
    "print(\"Simulation 6.3: Scores With Bonus Points, Variable Discrimination, Points Above Average Discrimination\\n\")\n",
    "\n",
    "min_score = 129.242 # value chosen through experimentation to ensure exactly 10,000 students\n",
    "b_bonus_points = 18\n",
    "\n",
    "b_accepted = b_dist[(b_dist - variable_discrimination + b_bonus_points > min_score)]\n",
    "w_accepted = w_dist[(w_dist > min_score)]\n",
    "bw_ratio = b_accepted.size / w_accepted.size\n",
    "\n",
    "print(f\"# Black Students: {b_accepted.size}\")\n",
    "print(f\"# White Students: {w_accepted.size}\")\n",
    "print(f\"# All Students  : {b_accepted.size + w_accepted.size}\")\n",
    "print(f\"B-W Ratio       : {bw_ratio}\")\n",
    "print(\"\")\n",
    "\n",
    "hbp_vd_score_avg = np.average(np.concatenate([b_accepted, w_accepted]))\n",
    "w_avg = np.average(w_accepted)\n",
    "b_avg = np.average(b_accepted)\n",
    "\n",
    "print(f\"Black Student Avg: {b_avg}\")\n",
    "print(f\"White Student Avg: {w_avg}\")\n",
    "print(f\"All Student Avg  : {hbp_vd_score_avg}\")\n",
    "print(\"\")\n",
    "\n",
    "total_iq_point_loss = (equal_threshold_avg - hbp_vd_score_avg) * 10000\n",
    "\n",
    "print(f\"Total IQ Loss: {total_iq_point_loss}\")"
   ]
  },
  {
   "cell_type": "code",
   "execution_count": 24,
   "id": "974ea138-da5d-4b25-8188-27dbabb1f4a6",
   "metadata": {},
   "outputs": [
    {
     "name": "stdout",
     "output_type": "stream",
     "text": [
      "8.34|10851.698506912158\n",
      "8.341|10843.009879693283\n",
      "8.342|10843.009879693283\n",
      "8.343|10843.009879693283\n",
      "8.344|10843.009879693283\n",
      "8.345|10843.009879693283\n",
      "8.346|10843.009879693283\n",
      "8.347|10848.39543046769\n",
      "8.348|10844.566347613238\n",
      "8.349|10844.566347613238\n"
     ]
    }
   ],
   "source": [
    "# Semi-Automated Test for Optimal Bonus Points\n",
    "\n",
    "quota = 10000\n",
    "b_bonus_points = 8.343\n",
    "\n",
    "# Race must be a number otherwise there's some dtype conflict with argsort()\n",
    "w_race = np.full((num_applicants), 0)\n",
    "b_race = np.full((num_applicants), 1)\n",
    "\n",
    "bonus_points_arr = np.arange(8.34,8.35,0.001)\n",
    "decimals = 3\n",
    "\n",
    "for i in bonus_points_arr:\n",
    "    \n",
    "    # Pair each applicant's true IQ with their apparent IQ due to discrimination, also mark race\n",
    "    b_dist_2d = np.stack((b_dist, b_dist - variable_discrimination + round(i,decimals), b_race), axis=-1)\n",
    "    w_dist_2d = np.stack((w_dist, w_dist, w_race), axis=-1)\n",
    "    \n",
    "    both_dist_2d = np.concatenate([b_dist_2d, w_dist_2d])\n",
    "    both_dist_2d_sorted = both_dist_2d[both_dist_2d[:, 1].argsort()] # sort array by second column\n",
    "    \n",
    "    both_accepted_2d = both_dist_2d_sorted[-quota:]\n",
    "    \n",
    "    w_accepted_2d = both_accepted_2d[(np.transpose(both_accepted_2d)[2] == 0)]\n",
    "    b_accepted_2d = both_accepted_2d[(np.transpose(both_accepted_2d)[2] == 1)]\n",
    "    \n",
    "    #w_accepted_IQs = np.transpose(w_accepted_2d)[0]\n",
    "    #b_accepted_IQs = np.transpose(b_accepted_2d)[0]\n",
    "    all_accepted_IQs = np.transpose(both_accepted_2d)[0]\n",
    "    \"\"\"\n",
    "    print(f\"# Black Students: {b_accepted_IQs.size}\")\n",
    "    print(f\"# White Students: {w_accepted_IQs.size}\")\n",
    "    print(f\"# All Students  : {b_accepted_IQs.size + w_accepted_IQs.size}\")\n",
    "    print(f\"B-W Ratio       : {b_accepted_IQs.size / w_accepted_IQs.size}\")\n",
    "    print(\"\")\n",
    "    \n",
    "    print(f\"Black Student Avg: {np.average(b_accepted_IQs)}\")\n",
    "    print(f\"White Student Avg: {np.average(w_accepted_IQs)}\")\n",
    "    print(f\"All Student Avg  : {np.average(all_accepted_IQs)}\")\n",
    "    print(\"\")\n",
    "    \"\"\"\n",
    "    total_iq_point_loss = (equal_quota_avg - np.average(all_accepted_IQs)) * 10000\n",
    "\n",
    "    print(f\"{round(i,decimals)}|{total_iq_point_loss}\")\n",
    "\n",
    "# values between 8.341-8.346 produce the lowest values IQ loss of 10843.009879693283\n",
    "# values between 8.345-8.349 reduce losses most for seed 123456789\n",
    "# Seeds | Optimal points\n",
    "# 1 | 8.352-8.357\n",
    "# 2 | 8.351-8.353\n",
    "# 3 | 8.355\n",
    "# 4 | 8.414-8.415\n",
    "# 5 | 8.386"
   ]
  },
  {
   "cell_type": "code",
   "execution_count": 22,
   "id": "a648a21f-1b71-497d-9d68-ab9c443a4ab0",
   "metadata": {},
   "outputs": [
    {
     "name": "stdout",
     "output_type": "stream",
     "text": [
      "Simulation 6.4: Scores With Bonus Points, Variable Discrimination, Optimal Bonus Points\n",
      "\n",
      "# Black Students: 4415\n",
      "# White Students: 5585\n",
      "# All Students  : 10000\n",
      "B-W Ratio       : 0.7905102954341987\n",
      "\n",
      "Black Student Avg: 129.40832673163456\n",
      "White Student Avg: 130.1573648099385\n",
      "All Student Avg  : 129.8266644983673\n",
      "\n",
      "Total IQ Loss: 10843.009879693\n"
     ]
    }
   ],
   "source": [
    "print(\"Simulation 6.4: Scores With Bonus Points, Variable Discrimination, Optimal Bonus Points\\n\")\n",
    "\n",
    "min_score = 123.741 # value chosen through experimentation to ensure exactly 10,000 students\n",
    "b_bonus_points = 8.343 # value chosen through experimentation to produce minimal IQ loss\n",
    "\n",
    "b_accepted = b_dist[(b_dist - variable_discrimination + b_bonus_points > min_score)]\n",
    "w_accepted = w_dist[(w_dist > min_score)]\n",
    "bw_ratio = b_accepted.size / w_accepted.size\n",
    "\n",
    "print(f\"# Black Students: {b_accepted.size}\")\n",
    "print(f\"# White Students: {w_accepted.size}\")\n",
    "print(f\"# All Students  : {b_accepted.size + w_accepted.size}\")\n",
    "print(f\"B-W Ratio       : {bw_ratio}\")\n",
    "print(\"\")\n",
    "\n",
    "op_vd_score_avg = np.average(np.concatenate([b_accepted, w_accepted]))\n",
    "w_avg = np.average(w_accepted)\n",
    "b_avg = np.average(b_accepted)\n",
    "\n",
    "print(f\"Black Student Avg: {b_avg}\")\n",
    "print(f\"White Student Avg: {w_avg}\")\n",
    "print(f\"All Student Avg  : {op_vd_score_avg}\")\n",
    "print(\"\")\n",
    "\n",
    "total_iq_point_loss = (equal_threshold_avg - op_vd_score_avg) * 10000\n",
    "\n",
    "print(f\"Total IQ Loss: {total_iq_point_loss}\")"
   ]
  }
 ],
 "metadata": {
  "kernelspec": {
   "display_name": "Python 3 (ipykernel)",
   "language": "python",
   "name": "python3"
  },
  "language_info": {
   "codemirror_mode": {
    "name": "ipython",
    "version": 3
   },
   "file_extension": ".py",
   "mimetype": "text/x-python",
   "name": "python",
   "nbconvert_exporter": "python",
   "pygments_lexer": "ipython3",
   "version": "3.12.5"
  }
 },
 "nbformat": 4,
 "nbformat_minor": 5
}
